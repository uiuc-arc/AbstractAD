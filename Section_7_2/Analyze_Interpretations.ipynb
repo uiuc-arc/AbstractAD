{
 "cells": [
  {
   "cell_type": "code",
   "execution_count": 1,
   "id": "703ec64b",
   "metadata": {},
   "outputs": [],
   "source": [
    "import pandas as pd\n",
    "from scipy.stats import gmean"
   ]
  },
  {
   "cell_type": "code",
   "execution_count": 2,
   "id": "4ad28e4a",
   "metadata": {},
   "outputs": [],
   "source": [
    "folder = 'interactions5'\n",
    "first = pd.read_csv(f'{folder}/first_order.csv', header=None)\n",
    "second = pd.read_csv(f'{folder}/second_order.csv', header=None)\n",
    "first_time = pd.read_csv(f'{folder}/time_first.csv', header=None)\n",
    "second_time = pd.read_csv(f'{folder}/time_second.csv', header=None)"
   ]
  },
  {
   "cell_type": "code",
   "execution_count": 3,
   "id": "2051de88",
   "metadata": {},
   "outputs": [
    {
     "name": "stdout",
     "output_type": "stream",
     "text": [
      "Jacobian entries\n",
      "4.57, 4.51, 4.76, 4.2, 4.39, "
     ]
    }
   ],
   "source": [
    "print('Jacobian entries')\n",
    "a = first.apply(gmean, axis=0)\n",
    "for n in a:\n",
    "    print(round(n,2), end=', ')"
   ]
  },
  {
   "cell_type": "code",
   "execution_count": 4,
   "id": "bd78755e",
   "metadata": {},
   "outputs": [
    {
     "name": "stdout",
     "output_type": "stream",
     "text": [
      "Hessian entries\n",
      "6.98, 5.69, 6.4, 5.31, 5.43, 4.97, 4.65, 4.07, 4.41, 4.64, 4.33, 4.62, 3.92, 4.08, 4.76, "
     ]
    }
   ],
   "source": [
    "print('Hessian entries')\n",
    "b = second.apply(gmean, axis=0)\n",
    "for n in b:\n",
    "    print(round(n,2), end=', ')"
   ]
  },
  {
   "cell_type": "code",
   "execution_count": 5,
   "id": "541efe79",
   "metadata": {},
   "outputs": [
    {
     "name": "stdout",
     "output_type": "stream",
     "text": [
      "0    0.014078\n",
      "1    0.009063\n",
      "dtype: float64\n"
     ]
    }
   ],
   "source": [
    "print(first_time.mean())"
   ]
  },
  {
   "cell_type": "code",
   "execution_count": 6,
   "id": "bb279006",
   "metadata": {},
   "outputs": [
    {
     "name": "stdout",
     "output_type": "stream",
     "text": [
      "0    0.234134\n",
      "1    0.108883\n",
      "dtype: float64\n"
     ]
    }
   ],
   "source": [
    "print(second_time.mean())"
   ]
  },
  {
   "cell_type": "code",
   "execution_count": null,
   "id": "cc9d3c2f",
   "metadata": {},
   "outputs": [],
   "source": []
  }
 ],
 "metadata": {
  "kernelspec": {
   "display_name": "Python 3",
   "language": "python",
   "name": "python3"
  },
  "language_info": {
   "codemirror_mode": {
    "name": "ipython",
    "version": 3
   },
   "file_extension": ".py",
   "mimetype": "text/x-python",
   "name": "python",
   "nbconvert_exporter": "python",
   "pygments_lexer": "ipython3",
   "version": "3.8.8"
  },
  "vscode": {
   "interpreter": {
    "hash": "31f2aee4e71d21fbe5cf8b01ff0e069b9275f58929596ceb00d14d90e3e16cd6"
   }
  }
 },
 "nbformat": 4,
 "nbformat_minor": 5
}
